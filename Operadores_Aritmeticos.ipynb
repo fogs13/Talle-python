{
 "cells": [
  {
   "cell_type": "markdown",
   "metadata": {},
   "source": [
    "OPERADORES ARITMETICOS"
   ]
  },
  {
   "attachments": {},
   "cell_type": "markdown",
   "metadata": {},
   "source": [
    "Los operadores aritméticos requieren dos datos para poden ejecutar una operación\n",
    "\n",
    "    OPERACIÓN\t     OPERADOR\t   EJEMPLO\n",
    "    _______________________________________\n",
    "    Suma\t           +\t        a + b\n",
    "    Resta\t           -\t        a - b\n",
    "    Multiplicacion \t   *\t        a * b\n",
    "    Division\t       /\t        a/b\n",
    "    Division Entera\t   //\t        a//b\n",
    "    Potencia a²\t       pow\t        pow(a,2)\n",
    "    \n",
    "Si ambos operadores (a,b) son del mismo tipo, las operaciones indicadas proporcionan un resultado del mismo tipo (entero, real). En caso de que uno de estos sea entero y el otro real el resultado será real.\n"
   ]
  },
  {
   "cell_type": "markdown",
   "metadata": {},
   "source": [
    "1) Ejemplo Basico:\n",
    "\n",
    "Si se cargan dos valores en cada una de las variables, es posible hacer cada una de las respectivas operaciones\n",
    "  a = 10\n",
    "  b = 5\n"
   ]
  },
  {
   "cell_type": "markdown",
   "metadata": {},
   "source": [
    "SUMA"
   ]
  },
  {
   "cell_type": "code",
   "execution_count": 8,
   "metadata": {},
   "outputs": [
    {
     "name": "stdout",
     "output_type": "stream",
     "text": [
      "operacion suma es 15\n"
     ]
    }
   ],
   "source": [
    "a = 10                                      #se carga el valor entero en la variable a\n",
    "b = 5                                       #se carga el valor entero en la variable b\n",
    "\n",
    "suma = a+b                                  # se crea una variable llamada suma y se procede a realizar la operacion\n",
    "print(\"operacion suma es\",suma)             # se imprime la respectiva operacion"
   ]
  },
  {
   "cell_type": "code",
   "execution_count": 5,
   "metadata": {},
   "outputs": [
    {
     "name": "stdout",
     "output_type": "stream",
     "text": [
      "el resultado de la operacion resta es 5\n"
     ]
    }
   ],
   "source": [
    "a = 10                                           #se carga el valor entero en la variable a\n",
    "b = 5                                            #se carga el valor entero en la variable b\n",
    "\n",
    "resta = a-b                                      # se crea una variable llamada resta y se procede a realizar la operacion\n",
    "print(\"operacion resta es\",resta)                # se imprime la respectiva operacion"
   ]
  },
  {
   "cell_type": "code",
   "execution_count": 9,
   "metadata": {},
   "outputs": [
    {
     "name": "stdout",
     "output_type": "stream",
     "text": [
      " operacion multiplicacion es 50\n"
     ]
    }
   ],
   "source": [
    "a = 10                                                    #se carga el valor entero en la variable a\n",
    "b = 5                                                     #se carga el valor entero en la variable b\n",
    "\n",
    "multiplicacion = a*b                                      # se crea una variable  y se procede a realizar la operacion\n",
    "print(\" operacion multiplicacion es\",multiplicacion)      # se imprime la respectiva operacion"
   ]
  },
  {
   "cell_type": "code",
   "execution_count": 10,
   "metadata": {},
   "outputs": [
    {
     "name": "stdout",
     "output_type": "stream",
     "text": [
      "operacion potencia es 25\n"
     ]
    }
   ],
   "source": [
    "a = 5                                                  #se carga el valor entero en la variable a\n",
    "b = 2                                                  #se carga el valor entero en la variable b\n",
    "\n",
    "potencia = pow(a,b)                                   # se crea una variable y se procede a realizar la operacion\n",
    "print(\"operacion potencia es\",potencia)               # se imprime la respectiva operacion"
   ]
  },
  {
   "cell_type": "code",
   "execution_count": null,
   "metadata": {},
   "outputs": [],
   "source": []
  }
 ],
 "metadata": {
  "kernelspec": {
   "display_name": "Python 3",
   "language": "python",
   "name": "python3"
  },
  "language_info": {
   "codemirror_mode": {
    "name": "ipython",
    "version": 3
   },
   "file_extension": ".py",
   "mimetype": "text/x-python",
   "name": "python",
   "nbconvert_exporter": "python",
   "pygments_lexer": "ipython3",
   "version": "3.7.3"
  }
 },
 "nbformat": 4,
 "nbformat_minor": 2
}
